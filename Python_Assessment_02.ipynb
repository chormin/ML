{
  "cells": [
    {
      "cell_type": "markdown",
      "metadata": {
        "id": "li6SlaFi9YXR"
      },
      "source": [
        "# Python Assessment 2\n",
        "\n",
        "\n"
      ]
    },
    {
      "cell_type": "markdown",
      "metadata": {
        "id": "yoWqht9b9YXT"
      },
      "source": [
        "## Exercises\n",
        "\n",
        "Answer the questions or complete the tasks outlined in bold below, use the specific method described if applicable."
      ]
    },
    {
      "cell_type": "markdown",
      "metadata": {
        "id": "5F0Flun79YYB"
      },
      "source": [
        "** Create a function that grabs the email website domain from a string in the form: **\n",
        "\n",
        "    user@domain.com\n",
        "\n",
        "**So for example, passing \"user@domain.com\" would return: domain.com**"
      ]
    },
    {
      "cell_type": "code",
      "execution_count": null,
      "metadata": {
        "id": "yLsz-cB_9YYB"
      },
      "outputs": [],
      "source": [
        "email = \"user@domain.com\""
      ]
    },
    {
      "cell_type": "code",
      "source": [
        "email.split('@')"
      ],
      "metadata": {
        "colab": {
          "base_uri": "https://localhost:8080/"
        },
        "id": "PhwsqyE4ucU9",
        "outputId": "5053874f-bb48-4c6b-e204-ce5fcb56912d"
      },
      "execution_count": null,
      "outputs": [
        {
          "output_type": "execute_result",
          "data": {
            "text/plain": [
              "['user', 'domain.com']"
            ]
          },
          "metadata": {},
          "execution_count": 20
        }
      ]
    },
    {
      "cell_type": "code",
      "execution_count": null,
      "metadata": {
        "id": "c4Dl_-9g9YYE",
        "outputId": "7a907145-f642-4873-d7e3-762ec68c1eef",
        "colab": {
          "base_uri": "https://localhost:8080/",
          "height": 35
        }
      },
      "outputs": [
        {
          "output_type": "execute_result",
          "data": {
            "text/plain": [
              "'domain.com'"
            ],
            "application/vnd.google.colaboratory.intrinsic+json": {
              "type": "string"
            }
          },
          "metadata": {},
          "execution_count": 3
        }
      ],
      "source": [
        "email.split('@')[1]"
      ]
    },
    {
      "cell_type": "markdown",
      "metadata": {
        "id": "qrcss1nj9YYI"
      },
      "source": [
        "** Create a basic function that returns True if the word 'dog' is contained in the input string. Don't worry about edge cases like a punctuation being attached to the word dog, but do account for capitalization. **"
      ]
    },
    {
      "cell_type": "code",
      "source": [
        "s = \"I love my DOG\""
      ],
      "metadata": {
        "id": "cZ7K4zlIupWD"
      },
      "execution_count": null,
      "outputs": []
    },
    {
      "cell_type": "code",
      "source": [
        "'dog' in s.lower().split()"
      ],
      "metadata": {
        "colab": {
          "base_uri": "https://localhost:8080/"
        },
        "id": "CwcfsUnKuq4z",
        "outputId": "524f9b80-a9c8-418e-b165-65157dedbc36"
      },
      "execution_count": null,
      "outputs": [
        {
          "output_type": "execute_result",
          "data": {
            "text/plain": [
              "True"
            ]
          },
          "metadata": {},
          "execution_count": 24
        }
      ]
    },
    {
      "cell_type": "code",
      "execution_count": null,
      "metadata": {
        "id": "L8PjBJZy9YYI"
      },
      "outputs": [],
      "source": [
        "def findDog(sentence):\n",
        "  return 'dog' in sentence.lower().split()"
      ]
    },
    {
      "cell_type": "code",
      "execution_count": null,
      "metadata": {
        "id": "Bja-Ninw9YYM",
        "outputId": "b285df0e-19d1-4753-f09d-7bfd384b3754",
        "colab": {
          "base_uri": "https://localhost:8080/"
        }
      },
      "outputs": [
        {
          "output_type": "execute_result",
          "data": {
            "text/plain": [
              "True"
            ]
          },
          "metadata": {},
          "execution_count": 5
        }
      ],
      "source": [
        "findDog(\"I love my DOG\")"
      ]
    },
    {
      "cell_type": "markdown",
      "metadata": {
        "id": "ACpow3ml9YYP"
      },
      "source": [
        "** Create a function that counts the number of times the word \"dog\" occurs in a string. Again ignore edge cases. **"
      ]
    },
    {
      "cell_type": "code",
      "execution_count": null,
      "metadata": {
        "id": "YQ076RKX9YYQ"
      },
      "outputs": [],
      "source": [
        "def countDog(sentence):\n",
        "  return sentence.lower().count(\"dog\")"
      ]
    },
    {
      "cell_type": "code",
      "execution_count": null,
      "metadata": {
        "id": "rW7eO_zI9YYT",
        "outputId": "7ccdd4ad-5b69-412f-c5a2-cdcb1d6e9aa0",
        "colab": {
          "base_uri": "https://localhost:8080/"
        }
      },
      "outputs": [
        {
          "output_type": "execute_result",
          "data": {
            "text/plain": [
              "2"
            ]
          },
          "metadata": {},
          "execution_count": 12
        }
      ],
      "source": [
        "countDog(\"I love my DOG. She is very good Dog\")"
      ]
    },
    {
      "cell_type": "markdown",
      "metadata": {
        "id": "Rh--SDKWgpXK"
      },
      "source": [
        "**Write a Python function that takes a list and returns a new list with unique elements of the first list.**\n",
        "\n",
        "Sample List : [1,1,1,1,2,2,3,3,3,3,4,5]\n",
        "<br>Unique List : [1, 2, 3, 4, 5]"
      ]
    },
    {
      "cell_type": "code",
      "execution_count": null,
      "metadata": {
        "id": "dqQ8eeWjgpXK"
      },
      "outputs": [],
      "source": [
        "def unique_list(lst):\n",
        "    return list(set(lst))\n",
        "\n",
        "\n"
      ]
    },
    {
      "cell_type": "code",
      "execution_count": null,
      "metadata": {
        "colab": {
          "base_uri": "https://localhost:8080/"
        },
        "id": "tKsQJuDZgpXK",
        "outputId": "ba19ffe5-f7de-47c1-aa49-27cad0fff77a"
      },
      "outputs": [
        {
          "output_type": "execute_result",
          "data": {
            "text/plain": [
              "[1, 2, 3, 4, 5]"
            ]
          },
          "metadata": {},
          "execution_count": 14
        }
      ],
      "source": [
        "unique_list([1,1,1,1,2,2,3,3,3,3,4,5])"
      ]
    },
    {
      "cell_type": "markdown",
      "metadata": {
        "id": "uAz9-GE4gpXL"
      },
      "source": [
        "**Write a Python function to multiply all the numbers in a list.**\n",
        "\n",
        "Sample List : [1, 2, 3, -4]\n",
        "<br>Expected Output : -24"
      ]
    },
    {
      "cell_type": "code",
      "execution_count": null,
      "metadata": {
        "id": "QFTYxsIngpXL"
      },
      "outputs": [],
      "source": [
        "def multiply(numbers):\n",
        "  multi = 1\n",
        "  for num in numbers:\n",
        "    multi = multi * num\n",
        "  return multi\n",
        "\n",
        "\n",
        "\n",
        "\n"
      ]
    },
    {
      "cell_type": "code",
      "execution_count": null,
      "metadata": {
        "colab": {
          "base_uri": "https://localhost:8080/"
        },
        "id": "LQbWnJ59gpXL",
        "outputId": "ec898d78-93b5-459e-c9df-dc9cf039560a"
      },
      "outputs": [
        {
          "output_type": "execute_result",
          "data": {
            "text/plain": [
              "-24"
            ]
          },
          "metadata": {},
          "execution_count": 16
        }
      ],
      "source": [
        "multiply([1,2,3,-4])"
      ]
    },
    {
      "cell_type": "markdown",
      "metadata": {
        "id": "ew9RgtDM9YYW"
      },
      "source": [
        "### Final Problem\n",
        "**You are driving a little too fast, and a police officer stops you. Write a function\n",
        "  to return one of 3 possible results: \"No ticket\", \"Small ticket\", or \"Big Ticket\".\n",
        "  If your speed is 60 or less, the result is \"No Ticket\". If speed is between 61\n",
        "  and 80 inclusive, the result is \"Small Ticket\". If speed is 81 or more, the result is \"Big    Ticket\". Unless it is your birthday (encoded as a boolean value in the parameters of the function) -- on your birthday, your speed can be 5 higher in all\n",
        "  cases. **"
      ]
    },
    {
      "cell_type": "code",
      "execution_count": null,
      "metadata": {
        "id": "2XHpxrsr9YYX"
      },
      "outputs": [],
      "source": [
        "def ticket(speed,birthday):\n",
        "\n",
        "  if(birthday == True):\n",
        "    speed -= 5\n",
        "\n",
        "  if(speed<=60):\n",
        "    return 'No Ticket'\n",
        "  elif(speed >60 and speed <=80):\n",
        "    return 'Small Ticket'\n",
        "  else:\n",
        "    return 'Big Ticket'"
      ]
    },
    {
      "cell_type": "code",
      "execution_count": null,
      "metadata": {
        "id": "PUxhEZaq9YYa",
        "outputId": "76325236-2208-4f13-c4b9-83b04061087f",
        "colab": {
          "base_uri": "https://localhost:8080/",
          "height": 35
        }
      },
      "outputs": [
        {
          "output_type": "execute_result",
          "data": {
            "text/plain": [
              "'Small Ticket'"
            ],
            "application/vnd.google.colaboratory.intrinsic+json": {
              "type": "string"
            }
          },
          "metadata": {},
          "execution_count": 18
        }
      ],
      "source": [
        "ticket(85,True)"
      ]
    },
    {
      "cell_type": "code",
      "execution_count": null,
      "metadata": {
        "id": "vhDnLcxr9YYd",
        "outputId": "1cd689a4-f0da-4e23-a096-f0d28d86b010",
        "colab": {
          "base_uri": "https://localhost:8080/",
          "height": 35
        }
      },
      "outputs": [
        {
          "output_type": "execute_result",
          "data": {
            "text/plain": [
              "'Big Ticket'"
            ],
            "application/vnd.google.colaboratory.intrinsic+json": {
              "type": "string"
            }
          },
          "metadata": {},
          "execution_count": 19
        }
      ],
      "source": [
        "ticket(85,False)"
      ]
    },
    {
      "cell_type": "markdown",
      "metadata": {
        "id": "FLF4tGX19YYf"
      },
      "source": [
        "# Great job!"
      ]
    }
  ],
  "metadata": {
    "anaconda-cloud": {},
    "colab": {
      "provenance": []
    },
    "hide_input": false,
    "kernelspec": {
      "display_name": "Python 3 (ipykernel)",
      "language": "python",
      "name": "python3"
    },
    "language_info": {
      "codemirror_mode": {
        "name": "ipython",
        "version": 3
      },
      "file_extension": ".py",
      "mimetype": "text/x-python",
      "name": "python",
      "nbconvert_exporter": "python",
      "pygments_lexer": "ipython3",
      "version": "3.10.9"
    },
    "toc": {
      "base_numbering": 1,
      "nav_menu": {},
      "number_sections": true,
      "sideBar": true,
      "skip_h1_title": false,
      "title_cell": "Table of Contents",
      "title_sidebar": "Contents",
      "toc_cell": false,
      "toc_position": {},
      "toc_section_display": true,
      "toc_window_display": false
    }
  },
  "nbformat": 4,
  "nbformat_minor": 0
}